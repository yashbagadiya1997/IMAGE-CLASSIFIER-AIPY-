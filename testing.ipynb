{
  "nbformat": 4,
  "nbformat_minor": 0,
  "metadata": {
    "colab": {
      "provenance": [],
      "gpuType": "V100",
      "authorship_tag": "ABX9TyOpV3QbiaDIpgDW7U67qYhO",
      "include_colab_link": true
    },
    "kernelspec": {
      "name": "python3",
      "display_name": "Python 3"
    },
    "language_info": {
      "name": "python"
    },
    "accelerator": "GPU"
  },
  "cells": [
    {
      "cell_type": "markdown",
      "metadata": {
        "id": "view-in-github",
        "colab_type": "text"
      },
      "source": [
        "<a href=\"https://colab.research.google.com/github/yashbagadiya1997/IMAGE-CLASSIFIER-AIPY-/blob/main/testing.ipynb\" target=\"_parent\"><img src=\"https://colab.research.google.com/assets/colab-badge.svg\" alt=\"Open In Colab\"/></a>"
      ]
    },
    {
      "cell_type": "code",
      "execution_count": null,
      "metadata": {
        "colab": {
          "base_uri": "https://localhost:8080/"
        },
        "id": "0NaRaOs5n6XU",
        "outputId": "909bc0a2-8f63-4c98-8288-fe1e4ffe31c3"
      },
      "outputs": [
        {
          "output_type": "stream",
          "name": "stdout",
          "text": [
            "Mounted at /content/drive\n"
          ]
        }
      ],
      "source": [
        "from google.colab import drive\n",
        "drive.mount('/content/drive')"
      ]
    },
    {
      "cell_type": "code",
      "source": [
        "!ls /content/drive/MyDrive/FLOWERS102_IMAGECLASSIFIER_UDACITY"
      ],
      "metadata": {
        "colab": {
          "base_uri": "https://localhost:8080/"
        },
        "id": "WKGXqCexo8fu",
        "outputId": "1f3bf862-9230-48bb-8a3b-0814f0f72a33"
      },
      "execution_count": null,
      "outputs": [
        {
          "output_type": "stream",
          "name": "stdout",
          "text": [
            "cat_to_name.json  test\ttrain  valid\n"
          ]
        }
      ]
    },
    {
      "cell_type": "code",
      "source": [
        "# Imports here\n",
        "import torch\n",
        "import numpy as np\n",
        "from torch import nn\n",
        "import torchvision\n",
        "from torchvision import datasets, transforms\n",
        "import matplotlib.pyplot as plt\n",
        "import matplotlib.image as mpimg\n",
        "from PIL import Image\n",
        "from torchvision import models\n",
        "from collections import OrderedDict\n",
        "import torch.optim as optim\n",
        "\n",
        "\n"
      ],
      "metadata": {
        "id": "DhFsTdMFo8lA"
      },
      "execution_count": null,
      "outputs": []
    },
    {
      "cell_type": "code",
      "source": [
        "# TODO: Define your transforms for the training, validation, and testing sets\n",
        "data_transforms = transforms.Compose([transforms.RandomRotation(30),\n",
        "                                      transforms.RandomResizedCrop(224),\n",
        "                                      transforms.RandomHorizontalFlip(),\n",
        "                                      transforms.ToTensor(),\n",
        "                                      transforms.Normalize([0.485, 0.456, 0.406], [0.229, 0.224, 0.225])])\n",
        "val_transforms = transforms.Compose([transforms.Resize(256),\n",
        "                                     transforms.CenterCrop(224),\n",
        "                                     transforms.ToTensor(),\n",
        "                                     transforms.Normalize([0.485, 0.456, 0.406], [0.229, 0.224, 0.225])\n",
        "                                     #     transforms.Resize((224, 224))\n",
        "                                    ])\n",
        "test_transforms = transforms.Compose([transforms.Resize(256),\n",
        "                                      transforms.RandomResizedCrop(224),\n",
        "                                      transforms.ToTensor(),\n",
        "                                      transforms.Normalize([0.485, 0.456, 0.406], [0.229, 0.224, 0.225])\n",
        "                                     ])\n",
        "# TODO: Load the datasets with ImageFolder\n",
        "# image_datasets = datasets.ImageFolder('flowers', transform=data_transforms)\n",
        "train_data = datasets.ImageFolder('/content/drive/MyDrive/FLOWERS102_IMAGECLASSIFIER_UDACITY/train', transform=data_transforms)\n",
        "valid_data = datasets.ImageFolder('/content/drive/MyDrive/FLOWERS102_IMAGECLASSIFIER_UDACITY/valid', transform=data_transforms)\n",
        "test_data = datasets.ImageFolder('/content/drive/MyDrive/FLOWERS102_IMAGECLASSIFIER_UDACITY/test', transform=data_transforms)\n",
        "\n",
        "\n",
        "\n",
        "# TODO: Using the image datasets and the trainforms, define the dataloaders\n",
        "train_loader = torch.utils.data.DataLoader(train_data, batch_size=32, shuffle=True)\n",
        "valid_loader = torch.utils.data.DataLoader(valid_data, batch_size=32)\n",
        "test_loader = torch.utils.data.DataLoader(test_data, batch_size=32)\n",
        "# dataloaders = torch.utils.data.DataLoader(image_datasets, batch_size=32, shuffle=True)\n",
        "\n",
        "image_datasets = [train_data, valid_data, test_data]\n",
        "data_loader = [train_loader, valid_loader, test_loader]\n",
        "\n",
        "\n",
        "# for images, labels in train_loader:\n",
        "#     print(images.shape)\n",
        "#     break\n",
        "# print(image_datasets)\n",
        "\n"
      ],
      "metadata": {
        "id": "VdLyQi1to8oJ"
      },
      "execution_count": null,
      "outputs": []
    },
    {
      "cell_type": "code",
      "source": [
        "train_data"
      ],
      "metadata": {
        "colab": {
          "base_uri": "https://localhost:8080/"
        },
        "id": "E0-OkBUUo8qr",
        "outputId": "c22f84b2-0a6e-411c-baac-965ff37c54ce"
      },
      "execution_count": null,
      "outputs": [
        {
          "output_type": "execute_result",
          "data": {
            "text/plain": [
              "Dataset ImageFolder\n",
              "    Number of datapoints: 6552\n",
              "    Root location: /content/drive/MyDrive/FLOWERS102_IMAGECLASSIFIER_UDACITY/train\n",
              "    StandardTransform\n",
              "Transform: Compose(\n",
              "               RandomRotation(degrees=[-30.0, 30.0], interpolation=nearest, expand=False, fill=0)\n",
              "               RandomResizedCrop(size=(224, 224), scale=(0.08, 1.0), ratio=(0.75, 1.3333), interpolation=bilinear, antialias=warn)\n",
              "               RandomHorizontalFlip(p=0.5)\n",
              "               ToTensor()\n",
              "               Normalize(mean=[0.485, 0.456, 0.406], std=[0.229, 0.224, 0.225])\n",
              "           )"
            ]
          },
          "metadata": {},
          "execution_count": 5
        }
      ]
    },
    {
      "cell_type": "code",
      "source": [
        "import json\n",
        "\n",
        "with open('/content/drive/MyDrive/FLOWERS102_IMAGECLASSIFIER_UDACITY/cat_to_name.json', 'r') as f:\n",
        "\n",
        "  cat_to_name = json.load(f)"
      ],
      "metadata": {
        "id": "GAkSD-sLo8tg"
      },
      "execution_count": null,
      "outputs": []
    },
    {
      "cell_type": "code",
      "source": [
        "model = models.vgg16(pretrained=True)\n",
        "print(model)\n",
        "\n",
        "for param in model.parameters():\n",
        "    param.requires_grad = False\n",
        "\n",
        "model.classifier"
      ],
      "metadata": {
        "colab": {
          "base_uri": "https://localhost:8080/"
        },
        "id": "avoB6YpYo8wI",
        "outputId": "2ee20cb6-fb97-4f1b-90c7-1ec67637203b"
      },
      "execution_count": null,
      "outputs": [
        {
          "output_type": "stream",
          "name": "stderr",
          "text": [
            "/usr/local/lib/python3.10/dist-packages/torchvision/models/_utils.py:208: UserWarning: The parameter 'pretrained' is deprecated since 0.13 and may be removed in the future, please use 'weights' instead.\n",
            "  warnings.warn(\n",
            "/usr/local/lib/python3.10/dist-packages/torchvision/models/_utils.py:223: UserWarning: Arguments other than a weight enum or `None` for 'weights' are deprecated since 0.13 and may be removed in the future. The current behavior is equivalent to passing `weights=VGG16_Weights.IMAGENET1K_V1`. You can also use `weights=VGG16_Weights.DEFAULT` to get the most up-to-date weights.\n",
            "  warnings.warn(msg)\n",
            "Downloading: \"https://download.pytorch.org/models/vgg16-397923af.pth\" to /root/.cache/torch/hub/checkpoints/vgg16-397923af.pth\n",
            "100%|██████████| 528M/528M [00:05<00:00, 96.1MB/s]\n"
          ]
        },
        {
          "output_type": "stream",
          "name": "stdout",
          "text": [
            "VGG(\n",
            "  (features): Sequential(\n",
            "    (0): Conv2d(3, 64, kernel_size=(3, 3), stride=(1, 1), padding=(1, 1))\n",
            "    (1): ReLU(inplace=True)\n",
            "    (2): Conv2d(64, 64, kernel_size=(3, 3), stride=(1, 1), padding=(1, 1))\n",
            "    (3): ReLU(inplace=True)\n",
            "    (4): MaxPool2d(kernel_size=2, stride=2, padding=0, dilation=1, ceil_mode=False)\n",
            "    (5): Conv2d(64, 128, kernel_size=(3, 3), stride=(1, 1), padding=(1, 1))\n",
            "    (6): ReLU(inplace=True)\n",
            "    (7): Conv2d(128, 128, kernel_size=(3, 3), stride=(1, 1), padding=(1, 1))\n",
            "    (8): ReLU(inplace=True)\n",
            "    (9): MaxPool2d(kernel_size=2, stride=2, padding=0, dilation=1, ceil_mode=False)\n",
            "    (10): Conv2d(128, 256, kernel_size=(3, 3), stride=(1, 1), padding=(1, 1))\n",
            "    (11): ReLU(inplace=True)\n",
            "    (12): Conv2d(256, 256, kernel_size=(3, 3), stride=(1, 1), padding=(1, 1))\n",
            "    (13): ReLU(inplace=True)\n",
            "    (14): Conv2d(256, 256, kernel_size=(3, 3), stride=(1, 1), padding=(1, 1))\n",
            "    (15): ReLU(inplace=True)\n",
            "    (16): MaxPool2d(kernel_size=2, stride=2, padding=0, dilation=1, ceil_mode=False)\n",
            "    (17): Conv2d(256, 512, kernel_size=(3, 3), stride=(1, 1), padding=(1, 1))\n",
            "    (18): ReLU(inplace=True)\n",
            "    (19): Conv2d(512, 512, kernel_size=(3, 3), stride=(1, 1), padding=(1, 1))\n",
            "    (20): ReLU(inplace=True)\n",
            "    (21): Conv2d(512, 512, kernel_size=(3, 3), stride=(1, 1), padding=(1, 1))\n",
            "    (22): ReLU(inplace=True)\n",
            "    (23): MaxPool2d(kernel_size=2, stride=2, padding=0, dilation=1, ceil_mode=False)\n",
            "    (24): Conv2d(512, 512, kernel_size=(3, 3), stride=(1, 1), padding=(1, 1))\n",
            "    (25): ReLU(inplace=True)\n",
            "    (26): Conv2d(512, 512, kernel_size=(3, 3), stride=(1, 1), padding=(1, 1))\n",
            "    (27): ReLU(inplace=True)\n",
            "    (28): Conv2d(512, 512, kernel_size=(3, 3), stride=(1, 1), padding=(1, 1))\n",
            "    (29): ReLU(inplace=True)\n",
            "    (30): MaxPool2d(kernel_size=2, stride=2, padding=0, dilation=1, ceil_mode=False)\n",
            "  )\n",
            "  (avgpool): AdaptiveAvgPool2d(output_size=(7, 7))\n",
            "  (classifier): Sequential(\n",
            "    (0): Linear(in_features=25088, out_features=4096, bias=True)\n",
            "    (1): ReLU(inplace=True)\n",
            "    (2): Dropout(p=0.5, inplace=False)\n",
            "    (3): Linear(in_features=4096, out_features=4096, bias=True)\n",
            "    (4): ReLU(inplace=True)\n",
            "    (5): Dropout(p=0.5, inplace=False)\n",
            "    (6): Linear(in_features=4096, out_features=1000, bias=True)\n",
            "  )\n",
            ")\n"
          ]
        },
        {
          "output_type": "execute_result",
          "data": {
            "text/plain": [
              "Sequential(\n",
              "  (0): Linear(in_features=25088, out_features=4096, bias=True)\n",
              "  (1): ReLU(inplace=True)\n",
              "  (2): Dropout(p=0.5, inplace=False)\n",
              "  (3): Linear(in_features=4096, out_features=4096, bias=True)\n",
              "  (4): ReLU(inplace=True)\n",
              "  (5): Dropout(p=0.5, inplace=False)\n",
              "  (6): Linear(in_features=4096, out_features=1000, bias=True)\n",
              ")"
            ]
          },
          "metadata": {},
          "execution_count": 7
        }
      ]
    },
    {
      "cell_type": "code",
      "source": [
        "num_features = model.classifier[6].in_features\n",
        "model.classifier[6] = nn.Linear(num_features, 102)"
      ],
      "metadata": {
        "id": "I-ET2Ia4o8y3"
      },
      "execution_count": null,
      "outputs": []
    },
    {
      "cell_type": "code",
      "source": [
        "criterion = nn.CrossEntropyLoss()\n",
        "optimizer = optim.SGD(model.classifier.parameters(), lr=0.001)"
      ],
      "metadata": {
        "id": "ASTSAkPCo81X"
      },
      "execution_count": null,
      "outputs": []
    },
    {
      "cell_type": "code",
      "source": [
        "device = torch.device(\"cuda\" if torch.cuda.is_available() else \"cpu\")\n",
        "model.to(device)\n",
        "device"
      ],
      "metadata": {
        "colab": {
          "base_uri": "https://localhost:8080/"
        },
        "id": "4bNKBXd_o84A",
        "outputId": "f3826d17-fbb4-4b56-a6ba-3e94577a92ef"
      },
      "execution_count": null,
      "outputs": [
        {
          "output_type": "execute_result",
          "data": {
            "text/plain": [
              "device(type='cuda')"
            ]
          },
          "metadata": {},
          "execution_count": 10
        }
      ]
    },
    {
      "cell_type": "code",
      "source": [
        "len(train_loader)"
      ],
      "metadata": {
        "colab": {
          "base_uri": "https://localhost:8080/"
        },
        "id": "xAumVhfNo86s",
        "outputId": "24f50667-3dd7-4a57-cb26-b4f4ef713a72"
      },
      "execution_count": null,
      "outputs": [
        {
          "output_type": "execute_result",
          "data": {
            "text/plain": [
              "205"
            ]
          },
          "metadata": {},
          "execution_count": 11
        }
      ]
    },
    {
      "cell_type": "code",
      "source": [
        "for epoch in range(16):\n",
        "    model.train()\n",
        "    print(f\"epoch :::::: {epoch}\")\n",
        "    train_loss = 0.0\n",
        "    total_train_correct = 0  # Track total correct predictions on training data\n",
        "    total_train_samples = 0  # Track total samples in the training data\n",
        "\n",
        "    for ind, (inputs, labels) in enumerate(train_loader):\n",
        "        inputs, labels = inputs.to(device, dtype=torch.float32), labels.to(device)\n",
        "\n",
        "        optimizer.zero_grad()\n",
        "\n",
        "        outputs = model(inputs)\n",
        "\n",
        "        loss = criterion(outputs, labels)\n",
        "        loss.backward()\n",
        "\n",
        "        optimizer.step()\n",
        "        train_loss += loss.item() * inputs.size(0)\n",
        "\n",
        "        # Calculate training accuracy\n",
        "        _, predicted = torch.max(outputs, 1)\n",
        "        total_train_correct += (predicted == labels).sum().item()\n",
        "        total_train_samples += labels.size(0)\n",
        "\n",
        "    epoch_loss =  train_loss / len(train_loader.dataset)\n",
        "    train_accuracy = total_train_correct / total_train_samples  # Calculate training accuracy\n",
        "    print(f\"Training loss: {epoch_loss:.4f}, Accuracy: {train_accuracy:.4f}\")\n",
        "\n",
        "    model.eval()\n",
        "    valid_loss = 0.0\n",
        "    correct = 0\n",
        "    total = 0\n",
        "\n",
        "    with torch.no_grad():\n",
        "        for inputs, labels in valid_loader:\n",
        "            inputs = inputs.to(device)\n",
        "            labels = labels.to(device)\n",
        "\n",
        "            outputs = model(inputs)\n",
        "            loss = criterion(outputs, labels)\n",
        "            valid_loss += loss.item() * inputs.size(0)\n",
        "\n",
        "            _, predicted = torch.max(outputs, 1)\n",
        "            total += labels.size(0)\n",
        "            correct += (predicted == labels).sum().item()\n",
        "\n",
        "    valid_loss = valid_loss / len(valid_loader.dataset)\n",
        "    accuracy = correct / total\n",
        "    print(f\"Validation loss: {valid_loss:.4f}, Accuracy: {accuracy:.4f}\")"
      ],
      "metadata": {
        "colab": {
          "base_uri": "https://localhost:8080/"
        },
        "id": "1B9UmNmxo89J",
        "outputId": "ad9de33b-be5b-4939-a8f0-dabe81792af7"
      },
      "execution_count": null,
      "outputs": [
        {
          "output_type": "stream",
          "name": "stdout",
          "text": [
            "epoch :::::: 0\n",
            "Training loss: 4.4659, Accuracy: 0.0543\n",
            "Validation loss: 4.1825, Accuracy: 0.1308\n",
            "epoch :::::: 1\n",
            "Training loss: 4.0736, Accuracy: 0.1439\n",
            "Validation loss: 3.8520, Accuracy: 0.2323\n",
            "epoch :::::: 2\n",
            "Training loss: 3.7565, Accuracy: 0.2199\n",
            "Validation loss: 3.5965, Accuracy: 0.2689\n",
            "epoch :::::: 3\n",
            "Training loss: 3.5018, Accuracy: 0.2711\n",
            "Validation loss: 3.3274, Accuracy: 0.3545\n",
            "epoch :::::: 4\n",
            "Training loss: 3.2716, Accuracy: 0.3260\n",
            "Validation loss: 3.1369, Accuracy: 0.3924\n",
            "epoch :::::: 5\n",
            "Training loss: 3.0898, Accuracy: 0.3738\n",
            "Validation loss: 2.9703, Accuracy: 0.4279\n",
            "epoch :::::: 6\n",
            "Training loss: 2.9310, Accuracy: 0.3996\n",
            "Validation loss: 2.8151, Accuracy: 0.4645\n",
            "epoch :::::: 7\n",
            "Training loss: 2.7960, Accuracy: 0.4274\n",
            "Validation loss: 2.7066, Accuracy: 0.4866\n",
            "epoch :::::: 8\n",
            "Training loss: 2.6571, Accuracy: 0.4557\n",
            "Validation loss: 2.5334, Accuracy: 0.5269\n",
            "epoch :::::: 9\n",
            "Training loss: 2.5634, Accuracy: 0.4722\n",
            "Validation loss: 2.4571, Accuracy: 0.5477\n",
            "epoch :::::: 10\n",
            "Training loss: 2.4635, Accuracy: 0.4937\n",
            "Validation loss: 2.3719, Accuracy: 0.5721\n",
            "epoch :::::: 11\n",
            "Training loss: 2.3695, Accuracy: 0.5163\n",
            "Validation loss: 2.3103, Accuracy: 0.5758\n",
            "epoch :::::: 12\n",
            "Training loss: 2.2760, Accuracy: 0.5401\n",
            "Validation loss: 2.2334, Accuracy: 0.5819\n",
            "epoch :::::: 13\n",
            "Training loss: 2.2190, Accuracy: 0.5476\n",
            "Validation loss: 2.1361, Accuracy: 0.5966\n",
            "epoch :::::: 14\n",
            "Training loss: 2.1548, Accuracy: 0.5514\n",
            "Validation loss: 2.0643, Accuracy: 0.6308\n",
            "epoch :::::: 15\n",
            "Training loss: 2.0819, Accuracy: 0.5723\n",
            "Validation loss: 2.0152, Accuracy: 0.6198\n"
          ]
        }
      ]
    },
    {
      "cell_type": "code",
      "source": [],
      "metadata": {
        "id": "h_mxzSwKo9A7"
      },
      "execution_count": null,
      "outputs": []
    }
  ]
}