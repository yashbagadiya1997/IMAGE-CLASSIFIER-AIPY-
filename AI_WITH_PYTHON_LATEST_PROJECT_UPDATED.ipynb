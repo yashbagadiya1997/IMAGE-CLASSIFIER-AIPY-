{
  "cells": [
    {
      "cell_type": "markdown",
      "metadata": {
        "id": "view-in-github",
        "colab_type": "text"
      },
      "source": [
        "<a href=\"https://colab.research.google.com/github/yashbagadiya1997/IMAGE-CLASSIFIER-AIPY-/blob/main/AI_WITH_PYTHON_LATEST_PROJECT_UPDATED.ipynb\" target=\"_parent\"><img src=\"https://colab.research.google.com/assets/colab-badge.svg\" alt=\"Open In Colab\"/></a>"
      ]
    },
    {
      "cell_type": "markdown",
      "metadata": {
        "id": "Fz0Lovmw_XLG"
      },
      "source": [
        "## Prepare the workspace"
      ]
    },
    {
      "cell_type": "code",
      "execution_count": null,
      "metadata": {
        "id": "aCMyTI9w_XLH"
      },
      "outputs": [],
      "source": []
    },
    {
      "cell_type": "code",
      "execution_count": null,
      "metadata": {
        "id": "Ayo3TXfs_XLH"
      },
      "outputs": [],
      "source": []
    },
    {
      "cell_type": "code",
      "execution_count": null,
      "metadata": {
        "colab": {
          "base_uri": "https://localhost:8080/"
        },
        "id": "dMMxgEDR_XLI",
        "outputId": "b2ce3b69-e09a-4c2e-d031-2c2735b725f8"
      },
      "outputs": [
        {
          "output_type": "stream",
          "name": "stdout",
          "text": [
            "Mounted at /content/drive\n"
          ]
        }
      ],
      "source": [
        "from google.colab import drive\n",
        "drive.mount('/content/drive')"
      ]
    },
    {
      "cell_type": "markdown",
      "metadata": {
        "id": "lk9MdKZV_XLI"
      },
      "source": [
        "# Developing an AI application\n",
        "\n",
        "Going forward, AI algorithms will be incorporated into more and more everyday applications. For example, you might want to include an image classifier in a smart phone app. To do this, you'd use a deep learning model trained on hundreds of thousands of images as part of the overall application architecture. A large part of software development in the future will be using these types of models as common parts of applications.\n",
        "\n",
        "In this project, you'll train an image classifier to recognize different species of flowers. You can imagine using something like this in a phone app that tells you the name of the flower your camera is looking at. In practice you'd train this classifier, then export it for use in your application. We'll be using [this dataset](http://www.robots.ox.ac.uk/~vgg/data/flowers/102/index.html) of 102 flower categories, you can see a few examples below.\n",
        "\n",
        "<img src='assets/Flowers.png' width=500px>\n",
        "\n",
        "The project is broken down into multiple steps:\n",
        "\n",
        "* Load and preprocess the image dataset\n",
        "* Train the image classifier on your dataset\n",
        "* Use the trained classifier to predict image content\n",
        "\n",
        "We'll lead you through each part which you'll implement in Python.\n",
        "\n",
        "When you've completed this project, you'll have an application that can be trained on any set of labeled images. Here your network will be learning about flowers and end up as a command line application. But, what you do with your new skills depends on your imagination and effort in building a dataset. For example, imagine an app where you take a picture of a car, it tells you what the make and model is, then looks up information about it. Go build your own dataset and make something new.\n",
        "\n",
        "First up is importing the packages you'll need. It's good practice to keep all the imports at the beginning of your code. As you work through this notebook and find you need to import a package, make sure to add the import up here."
      ]
    },
    {
      "cell_type": "code",
      "execution_count": null,
      "metadata": {
        "id": "jMtc3RtX_XLI"
      },
      "outputs": [],
      "source": [
        "# Imports here\n",
        "import torch\n",
        "import numpy as np\n",
        "from torch import nn\n",
        "import torchvision\n",
        "from torchvision import datasets, transforms\n",
        "import matplotlib.pyplot as plt\n",
        "import matplotlib.image as mpimg\n",
        "from PIL import Image\n",
        "from torchvision import models\n",
        "from collections import OrderedDict\n",
        "import torch.optim as optim\n",
        "import os"
      ]
    },
    {
      "cell_type": "markdown",
      "metadata": {
        "id": "MiVOiVUI_XLI"
      },
      "source": [
        "## Load the data\n",
        "\n",
        "Here you'll use `torchvision` to load the data ([documentation](http://pytorch.org/docs/0.3.0/torchvision/index.html)). The data should be included alongside this notebook, otherwise you can [download it here](https://s3.amazonaws.com/content.udacity-data.com/nd089/flower_data.tar.gz)."
      ]
    },
    {
      "cell_type": "markdown",
      "metadata": {
        "id": "p83jFIRa_XLJ"
      },
      "source": [
        "If you do not find the `flowers/` dataset in the current directory, **/workspace/home/aipnd-project/**, you can download it using the following commands.\n",
        "\n",
        "```bash\n",
        "!wget 'https://s3.amazonaws.com/content.udacity-data.com/nd089/flower_data.tar.gz'\n",
        "!unlink flowers\n",
        "!mkdir flowers && tar -xzf flower_data.tar.gz -C flowers\n",
        "```\n"
      ]
    },
    {
      "cell_type": "markdown",
      "metadata": {
        "id": "_vn4yagr_XLJ"
      },
      "source": [
        "## Data Description\n",
        "The dataset is split into three parts, training, validation, and testing. For the training, you'll want to apply transformations such as random scaling, cropping, and flipping. This will help the network generalize leading to better performance. You'll also need to make sure the input data is resized to 224x224 pixels as required by the pre-trained networks.\n",
        "\n",
        "The validation and testing sets are used to measure the model's performance on data it hasn't seen yet. For this you don't want any scaling or rotation transformations, but you'll need to resize then crop the images to the appropriate size.\n",
        "\n",
        "The pre-trained networks you'll use were trained on the ImageNet dataset where each color channel was normalized separately. For all three sets you'll need to normalize the means and standard deviations of the images to what the network expects. For the means, it's `[0.485, 0.456, 0.406]` and for the standard deviations `[0.229, 0.224, 0.225]`, calculated from the ImageNet images.  These values will shift each color channel to be centered at 0 and range from -1 to 1.\n"
      ]
    },
    {
      "cell_type": "code",
      "execution_count": null,
      "metadata": {
        "id": "ZWBLnItU_XLJ"
      },
      "outputs": [],
      "source": [
        "# data_dir = 'flowers'\n",
        "# train_dir = data_dir + '/train'\n",
        "# valid_dir = data_dir + '/valid'\n",
        "# test_dir = data_dir + '/test'"
      ]
    },
    {
      "cell_type": "code",
      "execution_count": null,
      "metadata": {
        "id": "W59ZA6xP_XLJ"
      },
      "outputs": [],
      "source": [
        "# TODO: Define your transforms for the training, validation, and testing sets\n",
        "# data_transforms =\n",
        "\n",
        "# # TODO: Load the datasets with ImageFolder\n",
        "# image_datasets =\n",
        "\n",
        "# # TODO: Using the image datasets and the trainforms, define the dataloaders\n",
        "# dataloaders ="
      ]
    },
    {
      "cell_type": "code",
      "source": [
        "# transforms\n",
        "\n",
        "train_transforms = transforms.Compose([transforms.Resize((224,224)),\n",
        "                                      transforms.RandomRotation(30),\n",
        "                                      transforms.RandomResizedCrop(224),\n",
        "                                      transforms.RandomHorizontalFlip(),\n",
        "                                      transforms.ToTensor(),\n",
        "                                      transforms.Normalize([0.485, 0.456, 0.406], [0.229, 0.224, 0.225])])\n",
        "val_transforms = transforms.Compose([transforms.Resize((224, 224)),\n",
        "                                     transforms.CenterCrop(224),\n",
        "                                     transforms.ToTensor(),\n",
        "                                     transforms.Normalize([0.485, 0.456, 0.406], [0.229, 0.224, 0.225])\n",
        "\n",
        "                                    ])\n",
        "test_transforms = transforms.Compose([transforms.Resize((224, 224)),\n",
        "                                      transforms.RandomResizedCrop(224),\n",
        "                                      transforms.ToTensor(),\n",
        "                                      transforms.Normalize([0.485, 0.456, 0.406], [0.229, 0.224, 0.225])\n",
        "                                     ])\n",
        "\n",
        "# datasets\n",
        "train_data = datasets.ImageFolder('/content/drive/MyDrive/FLOWERS102_IMAGECLASSIFIER_UDACITY/train', transform=train_transforms)\n",
        "valid_data = datasets.ImageFolder('/content/drive/MyDrive/FLOWERS102_IMAGECLASSIFIER_UDACITY/valid', transform=val_transforms)\n",
        "test_data = datasets.ImageFolder('/content/drive/MyDrive/FLOWERS102_IMAGECLASSIFIER_UDACITY/test', transform=test_transforms)\n",
        "\n",
        "# # datasets\n",
        "# train_loader = torch.utils.data.DataLoader(train_data, batch_size=32, shuffle=True)\n",
        "# valid_loader = torch.utils.data.DataLoader(valid_data, batch_size=32)\n",
        "# test_loader = torch.utils.data.DataLoader(test_data, batch_size=32)\n",
        "\n",
        "\n",
        "# dataloaders\n",
        "# using num_workers, prefetch_factor and pin_memory for faster loading and faster training\n",
        "# , num_workers=8, prefetch_factor=2, pin_memory=True\n",
        "# , num_workers=2, prefetch_factor=2, pin_memory=True\n",
        "# , num_workers=2, prefetch_factor=2, pin_memory=True\n",
        "train_loader = torch.utils.data.DataLoader(train_data, batch_size=32, shuffle=True)\n",
        "valid_loader = torch.utils.data.DataLoader(valid_data, batch_size=32)\n",
        "test_loader = torch.utils.data.DataLoader(test_data, batch_size=32)\n",
        "\n"
      ],
      "metadata": {
        "id": "XgDiZyJhOQY0"
      },
      "execution_count": null,
      "outputs": []
    },
    {
      "cell_type": "code",
      "source": [
        "# Iterating through images and labels in train_loader\n",
        "dataiter = iter(train_loader)\n",
        "images, labels = next(dataiter)\n",
        "\n",
        "# Print the shape of images and labels\n",
        "print(\" The shape of the images are : \", images.shape)\n",
        "print(\" The shape of the labels are : \", labels.shape)\n",
        "\n",
        "plt.imshow(images[6].permute(1,2,0).cpu().numpy())"
      ],
      "metadata": {
        "colab": {
          "base_uri": "https://localhost:8080/",
          "height": 526
        },
        "id": "Ne6p4MfJSGre",
        "outputId": "a7343788-5b51-4317-e6e9-cd1dc0531e14"
      },
      "execution_count": null,
      "outputs": [
        {
          "output_type": "stream",
          "name": "stderr",
          "text": [
            "WARNING:matplotlib.image:Clipping input data to the valid range for imshow with RGB data ([0..1] for floats or [0..255] for integers).\n"
          ]
        },
        {
          "output_type": "stream",
          "name": "stdout",
          "text": [
            " The shape of the images are :  torch.Size([32, 3, 224, 224])\n",
            " The shape of the labels are :  torch.Size([32])\n"
          ]
        },
        {
          "output_type": "execute_result",
          "data": {
            "text/plain": [
              "<matplotlib.image.AxesImage at 0x7e96a2ca6ce0>"
            ]
          },
          "metadata": {},
          "execution_count": 6
        },
        {
          "output_type": "display_data",
          "data": {
            "text/plain": [
              "<Figure size 640x480 with 1 Axes>"
            ],
            "image/png": "[encoded data removed]"
          },
          "metadata": {}
        }
      ]
    },
    {
      "cell_type": "markdown",
      "metadata": {
        "id": "CSQP40Sr_XLJ"
      },
      "source": [
        "### Label mapping\n",
        "\n",
        "You'll also need to load in a mapping from category label to category name. You can find this in the file `cat_to_name.json`. It's a JSON object which you can read in with the [`json` module](https://docs.python.org/2/library/json.html). This will give you a dictionary mapping the integer encoded categories to the actual names of the flowers."
      ]
    },
    {
      "cell_type": "code",
      "execution_count": null,
      "metadata": {
        "id": "JZ7X6Zb4_XLJ"
      },
      "outputs": [],
      "source": [
        "import json\n",
        "\n",
        "with open('/content/drive/MyDrive/FLOWERS102_IMAGECLASSIFIER_UDACITY/cat_to_name.json', 'r') as f:\n",
        "    cat_to_name = json.load(f)"
      ]
    },
    {
      "cell_type": "markdown",
      "metadata": {
        "id": "UhR8Imms_XLJ"
      },
      "source": [
        "# Building and training the classifier\n",
        "\n",
        "Now that the data is ready, it's time to build and train the classifier. As usual, you should use one of the pretrained models from `torchvision.models` to get the image features. Build and train a new feed-forward classifier using those features.\n",
        "\n",
        "We're going to leave this part up to you. Refer to [the rubric](https://review.udacity.com/#!/rubrics/1663/view) for guidance on successfully completing this section. Things you'll need to do:\n",
        "\n",
        "* Load a [pre-trained network](http://pytorch.org/docs/master/torchvision/models.html) (If you need a starting point, the VGG networks work great and are straightforward to use)\n",
        "* Define a new, untrained feed-forward network as a classifier, using ReLU activations and dropout\n",
        "* Train the classifier layers using backpropagation using the pre-trained network to get the features\n",
        "* Track the loss and accuracy on the validation set to determine the best hyperparameters\n",
        "\n",
        "We've left a cell open for you below, but use as many as you need. Our advice is to break the problem up into smaller parts you can run separately. Check that each part is doing what you expect, then move on to the next. You'll likely find that as you work through each part, you'll need to go back and modify your previous code. This is totally normal!\n",
        "\n",
        "When training make sure you're updating only the weights of the feed-forward network. You should be able to get the validation accuracy above 70% if you build everything right. Make sure to try different hyperparameters (learning rate, units in the classifier, epochs, etc) to find the best model. Save those hyperparameters to use as default values in the next part of the project.\n",
        "\n",
        "One last important tip if you're using the workspace to run your code: To avoid having your workspace disconnect during the long-running tasks in this notebook, please read in the earlier page in this lesson called Intro to\n",
        "GPU Workspaces about Keeping Your Session Active. You'll want to include code from the workspace_utils.py module.\n",
        "\n",
        "## Note for Workspace users:\n",
        "If your network is over 1 GB when saved as a checkpoint, there might be issues with saving backups in your workspace. Typically this happens with wide dense layers after the convolutional layers. If your saved checkpoint is larger than 1 GB (you can open a terminal and check with `ls -lh`), you should reduce the size of your hidden layers and train again."
      ]
    },
    {
      "cell_type": "code",
      "source": [
        "# TODO: Build and train your network\n",
        "model_pret = models.vgg16(pretrained=True)\n",
        "print(model_pret)\n",
        "print(model_pret.classifier)"
      ],
      "metadata": {
        "colab": {
          "base_uri": "https://localhost:8080/"
        },
        "outputId": "e563c546-7735-4df3-8a0a-e420e5217ae3",
        "id": "2e-32tIoX9E7"
      },
      "execution_count": null,
      "outputs": [
        {
          "output_type": "stream",
          "name": "stderr",
          "text": [
            "/usr/local/lib/python3.10/dist-packages/torchvision/models/_utils.py:208: UserWarning: The parameter 'pretrained' is deprecated since 0.13 and may be removed in the future, please use 'weights' instead.\n",
            "  warnings.warn(\n",
            "/usr/local/lib/python3.10/dist-packages/torchvision/models/_utils.py:223: UserWarning: Arguments other than a weight enum or `None` for 'weights' are deprecated since 0.13 and may be removed in the future. The current behavior is equivalent to passing `weights=VGG16_Weights.IMAGENET1K_V1`. You can also use `weights=VGG16_Weights.DEFAULT` to get the most up-to-date weights.\n",
            "  warnings.warn(msg)\n",
            "Downloading: \"https://download.pytorch.org/models/vgg16-397923af.pth\" to /root/.cache/torch/hub/checkpoints/vgg16-397923af.pth\n",
            "100%|██████████| 528M/528M [00:03<00:00, 149MB/s]\n"
          ]
        },
        {
          "output_type": "stream",
          "name": "stdout",
          "text": [
            "VGG(\n",
            "  (features): Sequential(\n",
            "    (0): Conv2d(3, 64, kernel_size=(3, 3), stride=(1, 1), padding=(1, 1))\n",
            "    (1): ReLU(inplace=True)\n",
            "    (2): Conv2d(64, 64, kernel_size=(3, 3), stride=(1, 1), padding=(1, 1))\n",
            "    (3): ReLU(inplace=True)\n",
            "    (4): MaxPool2d(kernel_size=2, stride=2, padding=0, dilation=1, ceil_mode=False)\n",
            "    (5): Conv2d(64, 128, kernel_size=(3, 3), stride=(1, 1), padding=(1, 1))\n",
            "    (6): ReLU(inplace=True)\n",
            "    (7): Conv2d(128, 128, kernel_size=(3, 3), stride=(1, 1), padding=(1, 1))\n",
            "    (8): ReLU(inplace=True)\n",
            "    (9): MaxPool2d(kernel_size=2, stride=2, padding=0, dilation=1, ceil_mode=False)\n",
            "    (10): Conv2d(128, 256, kernel_size=(3, 3), stride=(1, 1), padding=(1, 1))\n",
            "    (11): ReLU(inplace=True)\n",
            "    (12): Conv2d(256, 256, kernel_size=(3, 3), stride=(1, 1), padding=(1, 1))\n",
            "    (13): ReLU(inplace=True)\n",
            "    (14): Conv2d(256, 256, kernel_size=(3, 3), stride=(1, 1), padding=(1, 1))\n",
            "    (15): ReLU(inplace=True)\n",
            "    (16): MaxPool2d(kernel_size=2, stride=2, padding=0, dilation=1, ceil_mode=False)\n",
            "    (17): Conv2d(256, 512, kernel_size=(3, 3), stride=(1, 1), padding=(1, 1))\n",
            "    (18): ReLU(inplace=True)\n",
            "    (19): Conv2d(512, 512, kernel_size=(3, 3), stride=(1, 1), padding=(1, 1))\n",
            "    (20): ReLU(inplace=True)\n",
            "    (21): Conv2d(512, 512, kernel_size=(3, 3), stride=(1, 1), padding=(1, 1))\n",
            "    (22): ReLU(inplace=True)\n",
            "    (23): MaxPool2d(kernel_size=2, stride=2, padding=0, dilation=1, ceil_mode=False)\n",
            "    (24): Conv2d(512, 512, kernel_size=(3, 3), stride=(1, 1), padding=(1, 1))\n",
            "    (25): ReLU(inplace=True)\n",
            "    (26): Conv2d(512, 512, kernel_size=(3, 3), stride=(1, 1), padding=(1, 1))\n",
            "    (27): ReLU(inplace=True)\n",
            "    (28): Conv2d(512, 512, kernel_size=(3, 3), stride=(1, 1), padding=(1, 1))\n",
            "    (29): ReLU(inplace=True)\n",
            "    (30): MaxPool2d(kernel_size=2, stride=2, padding=0, dilation=1, ceil_mode=False)\n",
            "  )\n",
            "  (avgpool): AdaptiveAvgPool2d(output_size=(7, 7))\n",
            "  (classifier): Sequential(\n",
            "    (0): Linear(in_features=25088, out_features=4096, bias=True)\n",
            "    (1): ReLU(inplace=True)\n",
            "    (2): Dropout(p=0.5, inplace=False)\n",
            "    (3): Linear(in_features=4096, out_features=4096, bias=True)\n",
            "    (4): ReLU(inplace=True)\n",
            "    (5): Dropout(p=0.5, inplace=False)\n",
            "    (6): Linear(in_features=4096, out_features=1000, bias=True)\n",
            "  )\n",
            ")\n",
            "Sequential(\n",
            "  (0): Linear(in_features=25088, out_features=4096, bias=True)\n",
            "  (1): ReLU(inplace=True)\n",
            "  (2): Dropout(p=0.5, inplace=False)\n",
            "  (3): Linear(in_features=4096, out_features=4096, bias=True)\n",
            "  (4): ReLU(inplace=True)\n",
            "  (5): Dropout(p=0.5, inplace=False)\n",
            "  (6): Linear(in_features=4096, out_features=1000, bias=True)\n",
            ")\n"
          ]
        }
      ]
    },
    {
      "cell_type": "code",
      "source": [],
      "metadata": {
        "id": "7nQgGQ1cBKhI"
      },
      "execution_count": null,
      "outputs": []
    },
    {
      "cell_type": "code",
      "source": [
        "for param in model_pret.parameters():\n",
        "  param.requires_grad = False\n",
        "num_features = model_pret.classifier[6].in_features\n",
        "model_pret.classifier[6] = nn.Linear(num_features, 102)"
      ],
      "metadata": {
        "id": "pkES90YLX5pN"
      },
      "execution_count": null,
      "outputs": []
    },
    {
      "cell_type": "code",
      "source": [
        "model_pret"
      ],
      "metadata": {
        "colab": {
          "base_uri": "https://localhost:8080/"
        },
        "id": "tPpC8YHPX5iN",
        "outputId": "a5c9d90f-e771-4a1d-eb4d-b1a8abcc5999"
      },
      "execution_count": null,
      "outputs": [
        {
          "output_type": "execute_result",
          "data": {
            "text/plain": [
              "VGG(\n",
              "  (features): Sequential(\n",
              "    (0): Conv2d(3, 64, kernel_size=(3, 3), stride=(1, 1), padding=(1, 1))\n",
              "    (1): ReLU(inplace=True)\n",
              "    (2): Conv2d(64, 64, kernel_size=(3, 3), stride=(1, 1), padding=(1, 1))\n",
              "    (3): ReLU(inplace=True)\n",
              "    (4): MaxPool2d(kernel_size=2, stride=2, padding=0, dilation=1, ceil_mode=False)\n",
              "    (5): Conv2d(64, 128, kernel_size=(3, 3), stride=(1, 1), padding=(1, 1))\n",
              "    (6): ReLU(inplace=True)\n",
              "    (7): Conv2d(128, 128, kernel_size=(3, 3), stride=(1, 1), padding=(1, 1))\n",
              "    (8): ReLU(inplace=True)\n",
              "    (9): MaxPool2d(kernel_size=2, stride=2, padding=0, dilation=1, ceil_mode=False)\n",
              "    (10): Conv2d(128, 256, kernel_size=(3, 3), stride=(1, 1), padding=(1, 1))\n",
              "    (11): ReLU(inplace=True)\n",
              "    (12): Conv2d(256, 256, kernel_size=(3, 3), stride=(1, 1), padding=(1, 1))\n",
              "    (13): ReLU(inplace=True)\n",
              "    (14): Conv2d(256, 256, kernel_size=(3, 3), stride=(1, 1), padding=(1, 1))\n",
              "    (15): ReLU(inplace=True)\n",
              "    (16): MaxPool2d(kernel_size=2, stride=2, padding=0, dilation=1, ceil_mode=False)\n",
              "    (17): Conv2d(256, 512, kernel_size=(3, 3), stride=(1, 1), padding=(1, 1))\n",
              "    (18): ReLU(inplace=True)\n",
              "    (19): Conv2d(512, 512, kernel_size=(3, 3), stride=(1, 1), padding=(1, 1))\n",
              "    (20): ReLU(inplace=True)\n",
              "    (21): Conv2d(512, 512, kernel_size=(3, 3), stride=(1, 1), padding=(1, 1))\n",
              "    (22): ReLU(inplace=True)\n",
              "    (23): MaxPool2d(kernel_size=2, stride=2, padding=0, dilation=1, ceil_mode=False)\n",
              "    (24): Conv2d(512, 512, kernel_size=(3, 3), stride=(1, 1), padding=(1, 1))\n",
              "    (25): ReLU(inplace=True)\n",
              "    (26): Conv2d(512, 512, kernel_size=(3, 3), stride=(1, 1), padding=(1, 1))\n",
              "    (27): ReLU(inplace=True)\n",
              "    (28): Conv2d(512, 512, kernel_size=(3, 3), stride=(1, 1), padding=(1, 1))\n",
              "    (29): ReLU(inplace=True)\n",
              "    (30): MaxPool2d(kernel_size=2, stride=2, padding=0, dilation=1, ceil_mode=False)\n",
              "  )\n",
              "  (avgpool): AdaptiveAvgPool2d(output_size=(7, 7))\n",
              "  (classifier): Sequential(\n",
              "    (0): Linear(in_features=25088, out_features=4096, bias=True)\n",
              "    (1): ReLU(inplace=True)\n",
              "    (2): Dropout(p=0.5, inplace=False)\n",
              "    (3): Linear(in_features=4096, out_features=4096, bias=True)\n",
              "    (4): ReLU(inplace=True)\n",
              "    (5): Dropout(p=0.5, inplace=False)\n",
              "    (6): Linear(in_features=4096, out_features=102, bias=True)\n",
              "  )\n",
              ")"
            ]
          },
          "metadata": {},
          "execution_count": 10
        }
      ]
    },
    {
      "cell_type": "code",
      "source": [
        "device = (\"cuda\" if torch.cuda.is_available() else \"cpu\")"
      ],
      "metadata": {
        "id": "96esjJLwTEL1"
      },
      "execution_count": null,
      "outputs": []
    },
    {
      "cell_type": "code",
      "source": [
        "criterion = nn.CrossEntropyLoss()\n",
        "\n",
        "# Only train the classifier parameters, feature parameters are frozen\n",
        "optimizer = optim.Adam(model_pret.classifier.parameters(), lr=0.002)\n",
        "\n",
        "model_pret.to(device);"
      ],
      "metadata": {
        "id": "WrP2QL4iX5fF"
      },
      "execution_count": null,
      "outputs": []
    },
    {
      "cell_type": "code",
      "source": [],
      "metadata": {
        "id": "WmKPFJeZaxcL"
      },
      "execution_count": null,
      "outputs": []
    },
    {
      "cell_type": "code",
      "source": [
        "from tqdm.auto import tqdm\n",
        "epochs = 2\n",
        "steps = 0\n",
        "running_loss = 0\n",
        "print_every = 5\n",
        "for epoch in tqdm(range(epochs)):\n",
        "    for inputs, labels in train_loader:\n",
        "        steps += 1\n",
        "        # print(\"Steps are as follows : \\t\\t\", steps)\n",
        "        # Move input and label tensors to the default device\n",
        "        inputs, labels = inputs.to(device), labels.to(device)\n",
        "\n",
        "        optimizer.zero_grad()\n",
        "\n",
        "        logps = model_pret.forward(inputs)\n",
        "        loss = criterion(logps, labels)\n",
        "        loss.backward()\n",
        "        optimizer.step()\n",
        "\n",
        "        running_loss += loss.item()\n",
        "\n",
        "        if steps % print_every == 0:\n",
        "            test_loss = 0\n",
        "            accuracy = 0\n",
        "            model_pret.eval()\n",
        "            with torch.no_grad():\n",
        "                for inputs, labels in test_loader:\n",
        "                    inputs, labels = inputs.to(device), labels.to(device)\n",
        "                    logps = model_pret.forward(inputs)\n",
        "                    batch_loss = criterion(logps, labels)\n",
        "\n",
        "                    test_loss += batch_loss.item()\n",
        "\n",
        "                    # Calculate accuracy\n",
        "                    ps = torch.exp(logps)\n",
        "                    top_p, top_class = ps.topk(1, dim=1)\n",
        "                    equals = top_class == labels.view(*top_class.shape)\n",
        "                    accuracy += torch.mean(equals.type(torch.FloatTensor)).item()\n",
        "\n",
        "            print(f\"Epoch {epoch+1}/{epochs}.. \"\n",
        "                  f\"Train loss: {running_loss/print_every:.3f}.. \"\n",
        "                  f\"test loss: {test_loss/len(test_loader):.3f}.. \"\n",
        "                  f\"test accuracy: {accuracy/len(test_loader):.3f}\")\n",
        "            running_loss = 0\n",
        "            model_pret.train()"
      ],
      "metadata": {
        "colab": {
          "base_uri": "https://localhost:8080/",
          "height": 1000,
          "referenced_widgets": [
            "c38d79e8588b4b2c8d5e9513ac5d259e",
            "462340a448ce486c96e641f369206455",
            "bc45f029239c418d954c71970ac332ba",
            "dcf88eacccf94400a462c81b929e912c",
            "f8b45feec4bd4a4b8ffb3c24c4452a6c",
            "e913d30563374591a025ee8ca9b5d4c4",
            "db22edb49678409391655d064e445d9c",
            "9f281a55574d476cbdcd00edd0827f1e",
            "7342067aa1924c0686c1f6bb0463830e",
            "7a97fe24aa4347a198d5a6a5f2c7e3e1",
            "5bbb58ba04b84caaa032b98f7f1f7892"
          ]
        },
        "id": "9QHPlEfAX5bt",
        "outputId": "213fabaf-fe0e-4dcc-8e42-fe0996602528"
      },
      "execution_count": null,
      "outputs": [
        {
          "output_type": "display_data",
          "data": {
            "text/plain": [
              "  0%|          | 0/2 [00:00<?, ?it/s]"
            ],
            "application/vnd.jupyter.widget-view+json": {
              "version_major": 2,
              "version_minor": 0,
              "model_id": "c38d79e8588b4b2c8d5e9513ac5d259e"
            }
          },
          "metadata": {}
        },
        {
          "output_type": "stream",
          "name": "stdout",
          "text": [
            "Epoch 1/2.. Train loss: 4.011.. test loss: 3.813.. test accuracy: 0.216\n",
            "Epoch 1/2.. Train loss: 3.795.. test loss: 3.496.. test accuracy: 0.260\n",
            "Epoch 1/2.. Train loss: 3.371.. test loss: 3.118.. test accuracy: 0.318\n",
            "Epoch 1/2.. Train loss: 2.985.. test loss: 2.786.. test accuracy: 0.380\n",
            "Epoch 1/2.. Train loss: 2.522.. test loss: 2.567.. test accuracy: 0.414\n",
            "Epoch 1/2.. Train loss: 2.598.. test loss: 2.447.. test accuracy: 0.424\n",
            "Epoch 1/2.. Train loss: 2.121.. test loss: 2.269.. test accuracy: 0.471\n",
            "Epoch 1/2.. Train loss: 2.373.. test loss: 2.264.. test accuracy: 0.454\n",
            "Epoch 1/2.. Train loss: 2.354.. test loss: 2.121.. test accuracy: 0.487\n",
            "Epoch 1/2.. Train loss: 2.448.. test loss: 2.152.. test accuracy: 0.467\n",
            "Epoch 1/2.. Train loss: 2.116.. test loss: 2.109.. test accuracy: 0.495\n",
            "Epoch 1/2.. Train loss: 2.431.. test loss: 2.063.. test accuracy: 0.474\n",
            "Epoch 1/2.. Train loss: 2.125.. test loss: 1.945.. test accuracy: 0.516\n",
            "Epoch 1/2.. Train loss: 2.006.. test loss: 1.929.. test accuracy: 0.511\n",
            "Epoch 1/2.. Train loss: 2.155.. test loss: 1.949.. test accuracy: 0.495\n",
            "Epoch 1/2.. Train loss: 1.798.. test loss: 1.974.. test accuracy: 0.476\n",
            "Epoch 1/2.. Train loss: 1.999.. test loss: 1.824.. test accuracy: 0.532\n",
            "Epoch 1/2.. Train loss: 2.197.. test loss: 1.830.. test accuracy: 0.530\n",
            "Epoch 1/2.. Train loss: 1.739.. test loss: 1.717.. test accuracy: 0.557\n",
            "Epoch 1/2.. Train loss: 1.831.. test loss: 1.602.. test accuracy: 0.579\n",
            "Epoch 1/2.. Train loss: 1.832.. test loss: 1.704.. test accuracy: 0.544\n",
            "Epoch 1/2.. Train loss: 1.926.. test loss: 1.678.. test accuracy: 0.572\n",
            "Epoch 1/2.. Train loss: 1.809.. test loss: 1.674.. test accuracy: 0.576\n",
            "Epoch 1/2.. Train loss: 1.807.. test loss: 1.650.. test accuracy: 0.575\n",
            "Epoch 1/2.. Train loss: 1.682.. test loss: 1.761.. test accuracy: 0.560\n",
            "Epoch 1/2.. Train loss: 1.829.. test loss: 1.773.. test accuracy: 0.537\n",
            "Epoch 1/2.. Train loss: 1.813.. test loss: 1.738.. test accuracy: 0.562\n",
            "Epoch 1/2.. Train loss: 1.794.. test loss: 1.679.. test accuracy: 0.571\n",
            "Epoch 1/2.. Train loss: 1.910.. test loss: 1.591.. test accuracy: 0.579\n",
            "Epoch 1/2.. Train loss: 1.718.. test loss: 1.550.. test accuracy: 0.578\n",
            "Epoch 1/2.. Train loss: 1.856.. test loss: 1.590.. test accuracy: 0.589\n",
            "Epoch 1/2.. Train loss: 2.012.. test loss: 1.632.. test accuracy: 0.580\n",
            "Epoch 1/2.. Train loss: 1.875.. test loss: 1.625.. test accuracy: 0.581\n",
            "Epoch 1/2.. Train loss: 1.834.. test loss: 1.630.. test accuracy: 0.585\n",
            "Epoch 1/2.. Train loss: 1.996.. test loss: 1.594.. test accuracy: 0.580\n",
            "Epoch 1/2.. Train loss: 1.539.. test loss: 1.618.. test accuracy: 0.599\n",
            "Epoch 1/2.. Train loss: 1.708.. test loss: 1.650.. test accuracy: 0.590\n",
            "Epoch 1/2.. Train loss: 1.774.. test loss: 1.551.. test accuracy: 0.596\n",
            "Epoch 1/2.. Train loss: 1.879.. test loss: 1.480.. test accuracy: 0.627\n",
            "Epoch 1/2.. Train loss: 1.825.. test loss: 1.488.. test accuracy: 0.615\n",
            "Epoch 1/2.. Train loss: 1.867.. test loss: 1.507.. test accuracy: 0.594\n",
            "Epoch 2/2.. Train loss: 1.493.. test loss: 1.539.. test accuracy: 0.589\n",
            "Epoch 2/2.. Train loss: 1.295.. test loss: 1.523.. test accuracy: 0.602\n",
            "Epoch 2/2.. Train loss: 1.529.. test loss: 1.585.. test accuracy: 0.589\n",
            "Epoch 2/2.. Train loss: 1.438.. test loss: 1.488.. test accuracy: 0.626\n",
            "Epoch 2/2.. Train loss: 1.709.. test loss: 1.440.. test accuracy: 0.634\n",
            "Epoch 2/2.. Train loss: 1.664.. test loss: 1.475.. test accuracy: 0.627\n",
            "Epoch 2/2.. Train loss: 1.501.. test loss: 1.493.. test accuracy: 0.613\n",
            "Epoch 2/2.. Train loss: 1.482.. test loss: 1.570.. test accuracy: 0.606\n",
            "Epoch 2/2.. Train loss: 1.640.. test loss: 1.463.. test accuracy: 0.630\n",
            "Epoch 2/2.. Train loss: 1.765.. test loss: 1.483.. test accuracy: 0.611\n",
            "Epoch 2/2.. Train loss: 1.275.. test loss: 1.503.. test accuracy: 0.635\n",
            "Epoch 2/2.. Train loss: 1.604.. test loss: 1.511.. test accuracy: 0.600\n",
            "Epoch 2/2.. Train loss: 1.463.. test loss: 1.635.. test accuracy: 0.590\n",
            "Epoch 2/2.. Train loss: 1.269.. test loss: 1.531.. test accuracy: 0.612\n",
            "Epoch 2/2.. Train loss: 1.578.. test loss: 1.430.. test accuracy: 0.612\n",
            "Epoch 2/2.. Train loss: 1.573.. test loss: 1.420.. test accuracy: 0.632\n",
            "Epoch 2/2.. Train loss: 1.554.. test loss: 1.449.. test accuracy: 0.647\n",
            "Epoch 2/2.. Train loss: 1.495.. test loss: 1.517.. test accuracy: 0.618\n",
            "Epoch 2/2.. Train loss: 1.778.. test loss: 1.454.. test accuracy: 0.629\n",
            "Epoch 2/2.. Train loss: 1.411.. test loss: 1.507.. test accuracy: 0.629\n",
            "Epoch 2/2.. Train loss: 1.588.. test loss: 1.595.. test accuracy: 0.599\n",
            "Epoch 2/2.. Train loss: 1.625.. test loss: 1.536.. test accuracy: 0.615\n",
            "Epoch 2/2.. Train loss: 1.638.. test loss: 1.625.. test accuracy: 0.574\n",
            "Epoch 2/2.. Train loss: 1.705.. test loss: 1.530.. test accuracy: 0.600\n",
            "Epoch 2/2.. Train loss: 1.591.. test loss: 1.592.. test accuracy: 0.604\n",
            "Epoch 2/2.. Train loss: 1.806.. test loss: 1.421.. test accuracy: 0.645\n",
            "Epoch 2/2.. Train loss: 1.611.. test loss: 1.410.. test accuracy: 0.651\n",
            "Epoch 2/2.. Train loss: 1.781.. test loss: 1.441.. test accuracy: 0.652\n",
            "Epoch 2/2.. Train loss: 1.296.. test loss: 1.357.. test accuracy: 0.643\n",
            "Epoch 2/2.. Train loss: 1.746.. test loss: 1.360.. test accuracy: 0.641\n",
            "Epoch 2/2.. Train loss: 1.778.. test loss: 1.500.. test accuracy: 0.614\n",
            "Epoch 2/2.. Train loss: 1.444.. test loss: 1.474.. test accuracy: 0.617\n",
            "Epoch 2/2.. Train loss: 1.801.. test loss: 1.465.. test accuracy: 0.636\n",
            "Epoch 2/2.. Train loss: 1.647.. test loss: 1.472.. test accuracy: 0.631\n",
            "Epoch 2/2.. Train loss: 1.517.. test loss: 1.477.. test accuracy: 0.639\n",
            "Epoch 2/2.. Train loss: 1.611.. test loss: 1.440.. test accuracy: 0.640\n",
            "Epoch 2/2.. Train loss: 1.552.. test loss: 1.473.. test accuracy: 0.637\n",
            "Epoch 2/2.. Train loss: 1.634.. test loss: 1.324.. test accuracy: 0.660\n",
            "Epoch 2/2.. Train loss: 1.677.. test loss: 1.286.. test accuracy: 0.685\n",
            "Epoch 2/2.. Train loss: 1.392.. test loss: 1.392.. test accuracy: 0.646\n",
            "Epoch 2/2.. Train loss: 1.762.. test loss: 1.499.. test accuracy: 0.612\n"
          ]
        }
      ]
    },
    {
      "cell_type": "code",
      "source": [
        "# torch.save(model_pret.state_dict(), 'model_pret.pth')\n",
        "# state_dict = torch.load('/content/model_pret.pth')\n",
        "# model_pret.load_state_dict(state_dict())\n"
      ],
      "metadata": {
        "id": "ttZ59pPdoGTj"
      },
      "execution_count": null,
      "outputs": []
    },
    {
      "cell_type": "code",
      "source": [],
      "metadata": {
        "id": "zqaNvBcooGOd"
      },
      "execution_count": null,
      "outputs": []
    },
    {
      "cell_type": "code",
      "source": [
        "# model_pret.load_state_dict(torch.load('model_pret.pth'))"
      ],
      "metadata": {
        "id": "-zhgZFqeoGLg"
      },
      "execution_count": null,
      "outputs": []
    },
    {
      "cell_type": "code",
      "source": [],
      "metadata": {
        "id": "N4gV03vhoGFD"
      },
      "execution_count": null,
      "outputs": []
    },
    {
      "cell_type": "markdown",
      "metadata": {
        "id": "h9QS3RW2_XLK"
      },
      "source": [
        "## Testing your network\n",
        "\n",
        "It's good practice to test your trained network on test data, images the network has never seen either in training or validation. This will give you a good estimate for the model's performance on completely new images. Run the test images through the network and measure the accuracy, the same way you did validation. You should be able to reach around 70% accuracy on the test set if the model has been trained well."
      ]
    },
    {
      "cell_type": "code",
      "execution_count": null,
      "metadata": {
        "id": "swkOG1ND_XLK"
      },
      "outputs": [],
      "source": [
        "# # TODO: Do validation on the test set\n",
        "# test_loss = 0\n",
        "# test_accuracy = 0\n",
        "# model_pret.eval()\n",
        "\n",
        "# with torch.no_grad():\n",
        "#     for inputs, labels in test_loader:\n",
        "#         inputs, labels = inputs.to(device), labels.to(device)\n",
        "#         logps = model_pret.forward(inputs)\n",
        "#         batch_loss = criterion(logps, labels)\n",
        "\n",
        "#         test_loss += batch_loss.item()\n",
        "\n",
        "#         # Calculate accuracy\n",
        "#         ps = torch.exp(logps)\n",
        "#         top_p, top_class = ps.topk(1, dim=1)\n",
        "#         equals = top_class == labels.view(*top_class.shape)\n",
        "#         test_accuracy += torch.mean(equals.type(torch.FloatTensor)).item()\n",
        "\n",
        "# test_loss /= len(test_loader)\n",
        "# test_accuracy /= len(test_loader)\n",
        "\n",
        "# print(f\"Test loss: {test_loss:.3f}.. \"\n",
        "#       f\"Test accuracy: {test_accuracy:.3f}\")"
      ]
    },
    {
      "cell_type": "markdown",
      "metadata": {
        "id": "mnZE8zEd_XLK"
      },
      "source": [
        "## Save the checkpoint\n",
        "\n",
        "Now that your network is trained, save the model so you can load it later for making predictions. You probably want to save other things such as the mapping of classes to indices which you get from one of the image datasets: `image_datasets['train'].class_to_idx`. You can attach this to the model as an attribute which makes inference easier later on.\n",
        "\n",
        "```model.class_to_idx = image_datasets['train'].class_to_idx```\n",
        "\n",
        "Remember that you'll want to completely rebuild the model later so you can use it for inference. Make sure to include any information you need in the checkpoint. If you want to load the model and keep training, you'll want to save the number of epochs as well as the optimizer state, `optimizer.state_dict`. You'll likely want to use this trained model in the next part of the project, so best to save it now."
      ]
    },
    {
      "cell_type": "code",
      "execution_count": null,
      "metadata": {
        "id": "vYFlwm1c_XLK"
      },
      "outputs": [],
      "source": [
        "# TODO: Save the checkpoint"
      ]
    },
    {
      "cell_type": "markdown",
      "metadata": {
        "id": "Ecowzevx_XLK"
      },
      "source": [
        "## Loading the checkpoint\n",
        "\n",
        "At this point it's good to write a function that can load a checkpoint and rebuild the model. That way you can come back to this project and keep working on it without having to retrain the network."
      ]
    },
    {
      "cell_type": "code",
      "execution_count": null,
      "metadata": {
        "id": "1fhtYUIl_XLK"
      },
      "outputs": [],
      "source": [
        "# TODO: Write a function that loads a checkpoint and rebuilds the model"
      ]
    },
    {
      "cell_type": "markdown",
      "metadata": {
        "id": "EOVo53_l_XLK"
      },
      "source": [
        "# Inference for classification\n",
        "\n",
        "Now you'll write a function to use a trained network for inference. That is, you'll pass an image into the network and predict the class of the flower in the image. Write a function called `predict` that takes an image and a model, then returns the top $K$ most likely classes along with the probabilities. It should look like\n",
        "\n",
        "```python\n",
        "probs, classes = predict(image_path, model)\n",
        "print(probs)\n",
        "print(classes)\n",
        "> [ 0.01558163  0.01541934  0.01452626  0.01443549  0.01407339]\n",
        "> ['70', '3', '45', '62', '55']\n",
        "```\n",
        "\n",
        "First you'll need to handle processing the input image such that it can be used in your network.\n",
        "\n",
        "## Image Preprocessing\n",
        "\n",
        "You'll want to use `PIL` to load the image ([documentation](https://pillow.readthedocs.io/en/latest/reference/Image.html)). It's best to write a function that preprocesses the image so it can be used as input for the model. This function should process the images in the same manner used for training.\n",
        "\n",
        "First, resize the images where the shortest side is 256 pixels, keeping the aspect ratio. This can be done with the [`thumbnail`](http://pillow.readthedocs.io/en/3.1.x/reference/Image.html#PIL.Image.Image.thumbnail) or [`resize`](http://pillow.readthedocs.io/en/3.1.x/reference/Image.html#PIL.Image.Image.thumbnail) methods. Then you'll need to crop out the center 224x224 portion of the image.\n",
        "\n",
        "Color channels of images are typically encoded as integers 0-255, but the model expected floats 0-1. You'll need to convert the values. It's easiest with a Numpy array, which you can get from a PIL image like so `np_image = np.array(pil_image)`.\n",
        "\n",
        "As before, the network expects the images to be normalized in a specific way. For the means, it's `[0.485, 0.456, 0.406]` and for the standard deviations `[0.229, 0.224, 0.225]`. You'll want to subtract the means from each color channel, then divide by the standard deviation.\n",
        "\n",
        "And finally, PyTorch expects the color channel to be the first dimension but it's the third dimension in the PIL image and Numpy array. You can reorder dimensions using [`ndarray.transpose`](https://docs.scipy.org/doc/numpy-1.13.0/reference/generated/numpy.ndarray.transpose.html). The color channel needs to be first and retain the order of the other two dimensions."
      ]
    },
    {
      "cell_type": "code",
      "execution_count": null,
      "metadata": {
        "id": "C0Zwknjv_XLK"
      },
      "outputs": [],
      "source": [
        "def process_image(image):\n",
        "    ''' Scales, crops, and normalizes a PIL image for a PyTorch model,\n",
        "        returns an Numpy array\n",
        "    '''\n",
        "\n",
        "    # TODO: Process a PIL image for use in a PyTorch model"
      ]
    },
    {
      "cell_type": "markdown",
      "metadata": {
        "id": "b0D1OCtQ_XLK"
      },
      "source": [
        "To check your work, the function below converts a PyTorch tensor and displays it in the notebook. If your `process_image` function works, running the output through this function should return the original image (except for the cropped out portions)."
      ]
    },
    {
      "cell_type": "code",
      "execution_count": null,
      "metadata": {
        "id": "_otxBD6V_XLK"
      },
      "outputs": [],
      "source": [
        "def imshow(image, ax=None, title=None):\n",
        "    \"\"\"Imshow for Tensor.\"\"\"\n",
        "    if ax is None:\n",
        "        fig, ax = plt.subplots()\n",
        "\n",
        "    # PyTorch tensors assume the color channel is the first dimension\n",
        "    # but matplotlib assumes is the third dimension\n",
        "    image = image.numpy().transpose((1, 2, 0))\n",
        "\n",
        "    # Undo preprocessing\n",
        "    mean = np.array([0.485, 0.456, 0.406])\n",
        "    std = np.array([0.229, 0.224, 0.225])\n",
        "    image = std * image + mean\n",
        "\n",
        "    # Image needs to be clipped between 0 and 1 or it looks like noise when displayed\n",
        "    image = np.clip(image, 0, 1)\n",
        "\n",
        "    ax.imshow(image)\n",
        "\n",
        "    return ax"
      ]
    },
    {
      "cell_type": "markdown",
      "metadata": {
        "id": "0-zMyK9g_XLK"
      },
      "source": [
        "## Class Prediction\n",
        "\n",
        "Once you can get images in the correct format, it's time to write a function for making predictions with your model. A common practice is to predict the top 5 or so (usually called top-$K$) most probable classes. You'll want to calculate the class probabilities then find the $K$ largest values.\n",
        "\n",
        "To get the top $K$ largest values in a tensor use [`x.topk(k)`](http://pytorch.org/docs/master/torch.html#torch.topk). This method returns both the highest `k` probabilities and the indices of those probabilities corresponding to the classes. You need to convert from these indices to the actual class labels using `class_to_idx` which hopefully you added to the model or from an `ImageFolder` you used to load the data ([see here](#Save-the-checkpoint)). Make sure to invert the dictionary so you get a mapping from index to class as well.\n",
        "\n",
        "Again, this method should take a path to an image and a model checkpoint, then return the probabilities and classes.\n",
        "\n",
        "```python\n",
        "probs, classes = predict(image_path, model)\n",
        "print(probs)\n",
        "print(classes)\n",
        "> [ 0.01558163  0.01541934  0.01452626  0.01443549  0.01407339]\n",
        "> ['70', '3', '45', '62', '55']\n",
        "```"
      ]
    },
    {
      "cell_type": "code",
      "execution_count": null,
      "metadata": {
        "id": "lG9-vcF2_XLK"
      },
      "outputs": [],
      "source": [
        "def predict(image_path, model, topk=5):\n",
        "    ''' Predict the class (or classes) of an image using a trained deep learning model.\n",
        "    '''\n",
        "\n",
        "    # TODO: Implement the code to predict the class from an image file"
      ]
    },
    {
      "cell_type": "markdown",
      "metadata": {
        "id": "BEjnCoXr_XLL"
      },
      "source": [
        "## Sanity Checking\n",
        "\n",
        "Now that you can use a trained model for predictions, check to make sure it makes sense. Even if the testing accuracy is high, it's always good to check that there aren't obvious bugs. Use `matplotlib` to plot the probabilities for the top 5 classes as a bar graph, along with the input image. It should look like this:\n",
        "\n",
        "<img src='assets/inference_example.png' width=300px>\n",
        "\n",
        "You can convert from the class integer encoding to actual flower names with the `cat_to_name.json` file (should have been loaded earlier in the notebook). To show a PyTorch tensor as an image, use the `imshow` function defined above."
      ]
    },
    {
      "cell_type": "code",
      "execution_count": null,
      "metadata": {
        "id": "0U_hn09F_XLL"
      },
      "outputs": [],
      "source": [
        "# TODO: Display an image along with the top 5 classes"
      ]
    },
    {
      "cell_type": "code",
      "execution_count": null,
      "metadata": {
        "id": "FjQ-r96z_XLL"
      },
      "outputs": [],
      "source": []
    },
    {
      "cell_type": "markdown",
      "metadata": {
        "id": "25tkhPfn_XLL"
      },
      "source": [
        "## Reminder for Workspace users\n",
        "If your network becomes very large when saved as a checkpoint, there might be issues with saving backups in your workspace. You should reduce the size of your hidden layers and train again.\n",
        "    \n",
        "We strongly encourage you to delete these large interim files and directories before navigating to another page or closing the browser tab."
      ]
    },
    {
      "cell_type": "code",
      "execution_count": null,
      "metadata": {
        "id": "tXA5AeJd_XLL"
      },
      "outputs": [],
      "source": [
        "# TODO remove .pth files or move it to a temporary `~/opt` directory in this Workspace"
      ]
    },
    {
      "cell_type": "code",
      "execution_count": null,
      "metadata": {
        "id": "UunsgzOL_XLL"
      },
      "outputs": [],
      "source": []
    }
  ],
  "metadata": {
    "kernelspec": {
      "display_name": "Python 3",
      "name": "python3"
    },
    "language_info": {
      "codemirror_mode": {
        "name": "ipython",
        "version": 3
      },
      "file_extension": ".py",
      "mimetype": "text/x-python",
      "name": "python",
      "nbconvert_exporter": "python",
      "pygments_lexer": "ipython3",
      "version": "3.10.13"
    },
    "colab": {
      "provenance": [],
      "gpuType": "T4",
      "machine_shape": "hm",
      "include_colab_link": true
    },
    "accelerator": "GPU",
    "widgets": {
      "application/vnd.jupyter.widget-state+json": {
        "c38d79e8588b4b2c8d5e9513ac5d259e": {
          "model_module": "@jupyter-widgets/controls",
          "model_name": "HBoxModel",
          "model_module_version": "1.5.0",
          "state": {
            "_dom_classes": [],
            "_model_module": "@jupyter-widgets/controls",
            "_model_module_version": "1.5.0",
            "_model_name": "HBoxModel",
            "_view_count": null,
            "_view_module": "@jupyter-widgets/controls",
            "_view_module_version": "1.5.0",
            "_view_name": "HBoxView",
            "box_style": "",
            "children": [
              "IPY_MODEL_462340a448ce486c96e641f369206455",
              "IPY_MODEL_bc45f029239c418d954c71970ac332ba",
              "IPY_MODEL_dcf88eacccf94400a462c81b929e912c"
            ],
            "layout": "IPY_MODEL_f8b45feec4bd4a4b8ffb3c24c4452a6c"
          }
        },
        "462340a448ce486c96e641f369206455": {
          "model_module": "@jupyter-widgets/controls",
          "model_name": "HTMLModel",
          "model_module_version": "1.5.0",
          "state": {
            "_dom_classes": [],
            "_model_module": "@jupyter-widgets/controls",
            "_model_module_version": "1.5.0",
            "_model_name": "HTMLModel",
            "_view_count": null,
            "_view_module": "@jupyter-widgets/controls",
            "_view_module_version": "1.5.0",
            "_view_name": "HTMLView",
            "description": "",
            "description_tooltip": null,
            "layout": "IPY_MODEL_e913d30563374591a025ee8ca9b5d4c4",
            "placeholder": "​",
            "style": "IPY_MODEL_db22edb49678409391655d064e445d9c",
            "value": "100%"
          }
        },
        "bc45f029239c418d954c71970ac332ba": {
          "model_module": "@jupyter-widgets/controls",
          "model_name": "FloatProgressModel",
          "model_module_version": "1.5.0",
          "state": {
            "_dom_classes": [],
            "_model_module": "@jupyter-widgets/controls",
            "_model_module_version": "1.5.0",
            "_model_name": "FloatProgressModel",
            "_view_count": null,
            "_view_module": "@jupyter-widgets/controls",
            "_view_module_version": "1.5.0",
            "_view_name": "ProgressView",
            "bar_style": "success",
            "description": "",
            "description_tooltip": null,
            "layout": "IPY_MODEL_9f281a55574d476cbdcd00edd0827f1e",
            "max": 2,
            "min": 0,
            "orientation": "horizontal",
            "style": "IPY_MODEL_7342067aa1924c0686c1f6bb0463830e",
            "value": 2
          }
        },
        "dcf88eacccf94400a462c81b929e912c": {
          "model_module": "@jupyter-widgets/controls",
          "model_name": "HTMLModel",
          "model_module_version": "1.5.0",
          "state": {
            "_dom_classes": [],
            "_model_module": "@jupyter-widgets/controls",
            "_model_module_version": "1.5.0",
            "_model_name": "HTMLModel",
            "_view_count": null,
            "_view_module": "@jupyter-widgets/controls",
            "_view_module_version": "1.5.0",
            "_view_name": "HTMLView",
            "description": "",
            "description_tooltip": null,
            "layout": "IPY_MODEL_7a97fe24aa4347a198d5a6a5f2c7e3e1",
            "placeholder": "​",
            "style": "IPY_MODEL_5bbb58ba04b84caaa032b98f7f1f7892",
            "value": " 2/2 [44:13&lt;00:00, 1191.05s/it]"
          }
        },
        "f8b45feec4bd4a4b8ffb3c24c4452a6c": {
          "model_module": "@jupyter-widgets/base",
          "model_name": "LayoutModel",
          "model_module_version": "1.2.0",
          "state": {
            "_model_module": "@jupyter-widgets/base",
            "_model_module_version": "1.2.0",
            "_model_name": "LayoutModel",
            "_view_count": null,
            "_view_module": "@jupyter-widgets/base",
            "_view_module_version": "1.2.0",
            "_view_name": "LayoutView",
            "align_content": null,
            "align_items": null,
            "align_self": null,
            "border": null,
            "bottom": null,
            "display": null,
            "flex": null,
            "flex_flow": null,
            "grid_area": null,
            "grid_auto_columns": null,
            "grid_auto_flow": null,
            "grid_auto_rows": null,
            "grid_column": null,
            "grid_gap": null,
            "grid_row": null,
            "grid_template_areas": null,
            "grid_template_columns": null,
            "grid_template_rows": null,
            "height": null,
            "justify_content": null,
            "justify_items": null,
            "left": null,
            "margin": null,
            "max_height": null,
            "max_width": null,
            "min_height": null,
            "min_width": null,
            "object_fit": null,
            "object_position": null,
            "order": null,
            "overflow": null,
            "overflow_x": null,
            "overflow_y": null,
            "padding": null,
            "right": null,
            "top": null,
            "visibility": null,
            "width": null
          }
        },
        "e913d30563374591a025ee8ca9b5d4c4": {
          "model_module": "@jupyter-widgets/base",
          "model_name": "LayoutModel",
          "model_module_version": "1.2.0",
          "state": {
            "_model_module": "@jupyter-widgets/base",
            "_model_module_version": "1.2.0",
            "_model_name": "LayoutModel",
            "_view_count": null,
            "_view_module": "@jupyter-widgets/base",
            "_view_module_version": "1.2.0",
            "_view_name": "LayoutView",
            "align_content": null,
            "align_items": null,
            "align_self": null,
            "border": null,
            "bottom": null,
            "display": null,
            "flex": null,
            "flex_flow": null,
            "grid_area": null,
            "grid_auto_columns": null,
            "grid_auto_flow": null,
            "grid_auto_rows": null,
            "grid_column": null,
            "grid_gap": null,
            "grid_row": null,
            "grid_template_areas": null,
            "grid_template_columns": null,
            "grid_template_rows": null,
            "height": null,
            "justify_content": null,
            "justify_items": null,
            "left": null,
            "margin": null,
            "max_height": null,
            "max_width": null,
            "min_height": null,
            "min_width": null,
            "object_fit": null,
            "object_position": null,
            "order": null,
            "overflow": null,
            "overflow_x": null,
            "overflow_y": null,
            "padding": null,
            "right": null,
            "top": null,
            "visibility": null,
            "width": null
          }
        },
        "db22edb49678409391655d064e445d9c": {
          "model_module": "@jupyter-widgets/controls",
          "model_name": "DescriptionStyleModel",
          "model_module_version": "1.5.0",
          "state": {
            "_model_module": "@jupyter-widgets/controls",
            "_model_module_version": "1.5.0",
            "_model_name": "DescriptionStyleModel",
            "_view_count": null,
            "_view_module": "@jupyter-widgets/base",
            "_view_module_version": "1.2.0",
            "_view_name": "StyleView",
            "description_width": ""
          }
        },
        "9f281a55574d476cbdcd00edd0827f1e": {
          "model_module": "@jupyter-widgets/base",
          "model_name": "LayoutModel",
          "model_module_version": "1.2.0",
          "state": {
            "_model_module": "@jupyter-widgets/base",
            "_model_module_version": "1.2.0",
            "_model_name": "LayoutModel",
            "_view_count": null,
            "_view_module": "@jupyter-widgets/base",
            "_view_module_version": "1.2.0",
            "_view_name": "LayoutView",
            "align_content": null,
            "align_items": null,
            "align_self": null,
            "border": null,
            "bottom": null,
            "display": null,
            "flex": null,
            "flex_flow": null,
            "grid_area": null,
            "grid_auto_columns": null,
            "grid_auto_flow": null,
            "grid_auto_rows": null,
            "grid_column": null,
            "grid_gap": null,
            "grid_row": null,
            "grid_template_areas": null,
            "grid_template_columns": null,
            "grid_template_rows": null,
            "height": null,
            "justify_content": null,
            "justify_items": null,
            "left": null,
            "margin": null,
            "max_height": null,
            "max_width": null,
            "min_height": null,
            "min_width": null,
            "object_fit": null,
            "object_position": null,
            "order": null,
            "overflow": null,
            "overflow_x": null,
            "overflow_y": null,
            "padding": null,
            "right": null,
            "top": null,
            "visibility": null,
            "width": null
          }
        },
        "7342067aa1924c0686c1f6bb0463830e": {
          "model_module": "@jupyter-widgets/controls",
          "model_name": "ProgressStyleModel",
          "model_module_version": "1.5.0",
          "state": {
            "_model_module": "@jupyter-widgets/controls",
            "_model_module_version": "1.5.0",
            "_model_name": "ProgressStyleModel",
            "_view_count": null,
            "_view_module": "@jupyter-widgets/base",
            "_view_module_version": "1.2.0",
            "_view_name": "StyleView",
            "bar_color": null,
            "description_width": ""
          }
        },
        "7a97fe24aa4347a198d5a6a5f2c7e3e1": {
          "model_module": "@jupyter-widgets/base",
          "model_name": "LayoutModel",
          "model_module_version": "1.2.0",
          "state": {
            "_model_module": "@jupyter-widgets/base",
            "_model_module_version": "1.2.0",
            "_model_name": "LayoutModel",
            "_view_count": null,
            "_view_module": "@jupyter-widgets/base",
            "_view_module_version": "1.2.0",
            "_view_name": "LayoutView",
            "align_content": null,
            "align_items": null,
            "align_self": null,
            "border": null,
            "bottom": null,
            "display": null,
            "flex": null,
            "flex_flow": null,
            "grid_area": null,
            "grid_auto_columns": null,
            "grid_auto_flow": null,
            "grid_auto_rows": null,
            "grid_column": null,
            "grid_gap": null,
            "grid_row": null,
            "grid_template_areas": null,
            "grid_template_columns": null,
            "grid_template_rows": null,
            "height": null,
            "justify_content": null,
            "justify_items": null,
            "left": null,
            "margin": null,
            "max_height": null,
            "max_width": null,
            "min_height": null,
            "min_width": null,
            "object_fit": null,
            "object_position": null,
            "order": null,
            "overflow": null,
            "overflow_x": null,
            "overflow_y": null,
            "padding": null,
            "right": null,
            "top": null,
            "visibility": null,
            "width": null
          }
        },
        "5bbb58ba04b84caaa032b98f7f1f7892": {
          "model_module": "@jupyter-widgets/controls",
          "model_name": "DescriptionStyleModel",
          "model_module_version": "1.5.0",
          "state": {
            "_model_module": "@jupyter-widgets/controls",
            "_model_module_version": "1.5.0",
            "_model_name": "DescriptionStyleModel",
            "_view_count": null,
            "_view_module": "@jupyter-widgets/base",
            "_view_module_version": "1.2.0",
            "_view_name": "StyleView",
            "description_width": ""
          }
        }
      }
    }
  },
  "nbformat": 4,
  "nbformat_minor": 0
}